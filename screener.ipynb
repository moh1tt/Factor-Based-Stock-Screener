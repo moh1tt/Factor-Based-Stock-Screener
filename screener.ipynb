{
 "cells": [
  {
   "cell_type": "code",
   "execution_count": 2,
   "id": "b0dad839",
   "metadata": {},
   "outputs": [],
   "source": [
    "import yfinance as yf\n",
    "import pandas as pd\n",
    "from utils import get_sp500_tickers"
   ]
  },
  {
   "cell_type": "code",
   "execution_count": 3,
   "id": "c66ed8e5",
   "metadata": {},
   "outputs": [],
   "source": [
    "# List of example tickers (can load from file later)\n",
    "TICKERS = ['AAPL', 'MSFT', 'GOOGL', 'AMZN', 'TSLA', 'META', 'NVDA']"
   ]
  },
  {
   "cell_type": "code",
   "execution_count": 15,
   "id": "e8329853",
   "metadata": {},
   "outputs": [],
   "source": [
    "TICKERS = get_sp500_tickers()[:100]"
   ]
  },
  {
   "cell_type": "code",
   "execution_count": 16,
   "id": "020e0f5d",
   "metadata": {},
   "outputs": [],
   "source": [
    "# Factors we care about\n",
    "FIELDS = {\n",
    "    'trailingPE': 'P/E',\n",
    "    'priceToBook': 'P/B',\n",
    "    'returnOnEquity': 'ROE',\n",
    "    'debtToEquity': 'D/E',\n",
    "    'earningsGrowth': 'EPS Growth',\n",
    "    'marketCap': 'Market Cap'\n",
    "}"
   ]
  },
  {
   "cell_type": "code",
   "execution_count": 17,
   "id": "8a3acf83",
   "metadata": {},
   "outputs": [],
   "source": [
    "def fetch_fundamentals(tickers):\n",
    "    all_data = []\n",
    "    for ticker in tickers:\n",
    "        try:\n",
    "            info = yf.Ticker(ticker).info\n",
    "            row = {\n",
    "                'Ticker': ticker,\n",
    "                'Company Name': info.get('longName', 'N/A')  # <- New field\n",
    "            }\n",
    "            for field in FIELDS:\n",
    "                row[FIELDS[field]] = info.get(field, None)\n",
    "            all_data.append(row)\n",
    "        except Exception as e:\n",
    "            print(f\"Error fetching {ticker}: {e}\")\n",
    "    return pd.DataFrame(all_data)\n"
   ]
  },
  {
   "cell_type": "code",
   "execution_count": 18,
   "id": "881b4823",
   "metadata": {},
   "outputs": [
    {
     "name": "stdout",
     "output_type": "stream",
     "text": [
      "  Ticker             Company Name        P/E         P/B      ROE       D/E  \\\n",
      "0    MMM               3M Company  18.415941   17.827608  0.93824   312.492   \n",
      "1    AOS  A. O. Smith Corporation  19.092178    5.235943  0.27970    15.945   \n",
      "2    ABT      Abbott Laboratories  16.696104    4.582427  0.30649    27.087   \n",
      "3   ABBV              AbbVie Inc.  76.154510  220.696520  0.88400  4789.603   \n",
      "4    ACN            Accenture plc  26.414675    6.863085  0.26965    26.706   \n",
      "\n",
      "   EPS Growth    Market Cap  \n",
      "0       0.221   79586205696  \n",
      "1      -0.050    9713148928  \n",
      "2       0.086  223673827328  \n",
      "3      -0.063  313430016000  \n",
      "4       0.072  200584986624  \n"
     ]
    }
   ],
   "source": [
    "if __name__ == \"__main__\":\n",
    "    df = fetch_fundamentals(TICKERS)\n",
    "    print(df.head())\n",
    "    df.to_csv(\"data/fundamentals_snapshot.csv\", index=False)"
   ]
  },
  {
   "cell_type": "code",
   "execution_count": 12,
   "id": "a779a878",
   "metadata": {},
   "outputs": [],
   "source": [
    "def screen_stocks(df):\n",
    "    # Drop rows with missing data\n",
    "    df = df.dropna(subset=['P/E', 'P/B', 'ROE', 'D/E', 'EPS Growth'])\n",
    "\n",
    "    # Optional: Apply hard filters (customize as needed)\n",
    "    print(\"Before filter\", df.shape)\n",
    "    df = df[\n",
    "        (df['P/E'] < 25) &\n",
    "        (df['ROE'] > 0.10) &\n",
    "        (df['D/E'] < 100.0)\n",
    "    ]\n",
    "\n",
    "    # Normalize factors (Z-score or min-max for simplicity)\n",
    "    for col in ['P/E', 'P/B', 'ROE', 'EPS Growth']:\n",
    "        if col in df.columns:\n",
    "            df[col + '_score'] = (df[col] - df[col].min()) / (df[col].max() - df[col].min())\n",
    "\n",
    "    # Scoring: higher ROE and EPS growth is better; lower P/E and P/B is better\n",
    "    df['Factor Score'] = (\n",
    "        (1 - df['P/E_score']) +\n",
    "        (1 - df['P/B_score']) +\n",
    "        df['ROE_score'] +\n",
    "        df['EPS Growth_score']\n",
    "    )\n",
    "\n",
    "    df = df.sort_values(by='Factor Score', ascending=False)\n",
    "\n",
    "    return df\n"
   ]
  },
  {
   "cell_type": "code",
   "execution_count": 13,
   "id": "9fc4def5",
   "metadata": {},
   "outputs": [
    {
     "name": "stdout",
     "output_type": "stream",
     "text": [
      "Before filter (80, 7)\n",
      "   Ticker        P/E      ROE  EPS Growth  Factor Score\n",
      "37    APA   6.477061  0.26176       1.181      3.204524\n",
      "95     CF  11.268519  0.20794       0.796      2.443561\n",
      "93    CNC   8.809734  0.12527       0.218      2.353086\n",
      "42   ACGL   9.393846  0.18415      -0.493      2.048835\n",
      "55    BKR  12.926621  0.18036      -0.111      1.949430\n",
      "19  GOOGL  18.453733  0.34789       0.488      1.854200\n",
      "20   GOOG  18.623884  0.34789       0.488      1.839032\n",
      "2     ABT  16.696754  0.30649       0.086      1.821490\n",
      "60  BRK-B  13.446428  0.13187      -0.637      1.814359\n",
      "74   BF-B  16.612442  0.27985      -0.050      1.739746\n"
     ]
    }
   ],
   "source": [
    "if __name__ == \"__main__\":\n",
    "    df = pd.read_csv(\"data/fundamentals_snapshot.csv\")\n",
    "    df_clean = screen_stocks(df)\n",
    "    print(df_clean[['Ticker', 'P/E', 'ROE', 'EPS Growth', 'Factor Score']].head(10))\n",
    "    df_clean.to_csv(\"data/screened_stocks.csv\", index=False)"
   ]
  },
  {
   "cell_type": "code",
   "execution_count": null,
   "id": "2aed049c",
   "metadata": {},
   "outputs": [],
   "source": []
  }
 ],
 "metadata": {
  "kernelspec": {
   "display_name": "venv",
   "language": "python",
   "name": "python3"
  },
  "language_info": {
   "codemirror_mode": {
    "name": "ipython",
    "version": 3
   },
   "file_extension": ".py",
   "mimetype": "text/x-python",
   "name": "python",
   "nbconvert_exporter": "python",
   "pygments_lexer": "ipython3",
   "version": "3.12.5"
  }
 },
 "nbformat": 4,
 "nbformat_minor": 5
}
